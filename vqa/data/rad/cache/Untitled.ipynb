{
 "cells": [
  {
   "cell_type": "code",
   "execution_count": 1,
   "id": "simple-colombia",
   "metadata": {},
   "outputs": [],
   "source": [
    "import _pickle as cPickle\n",
    "import json"
   ]
  },
  {
   "cell_type": "code",
   "execution_count": 8,
   "id": "formal-butter",
   "metadata": {},
   "outputs": [],
   "source": [
    "label1 = cPickle.load(open('./trainval_label2ans.pkl','rb'))"
   ]
  },
  {
   "cell_type": "code",
   "execution_count": 10,
   "id": "humanitarian-clinic",
   "metadata": {},
   "outputs": [
    {
     "name": "stdout",
     "output_type": "stream",
     "text": [
      "nodular opacities\n"
     ]
    }
   ],
   "source": [
    "print(label1[34])"
   ]
  },
  {
   "cell_type": "code",
   "execution_count": 4,
   "id": "incorporate-baking",
   "metadata": {},
   "outputs": [],
   "source": [
    "label = cPickle.load(open('./test_target.pkl','rb'))"
   ]
  },
  {
   "cell_type": "code",
   "execution_count": 7,
   "id": "stainless-affiliate",
   "metadata": {},
   "outputs": [
    {
     "name": "stdout",
     "output_type": "stream",
     "text": [
      "{'qid': 415, 'image_name': 'synpic31400.jpg', 'labels': [34], 'scores': [1.0]}\n"
     ]
    }
   ],
   "source": [
    "# What abnormalities are in the lung apices?\n",
    "for i in label:\n",
    "    if i['qid'] == 415:\n",
    "        print(i)"
   ]
  }
 ],
 "metadata": {
  "kernelspec": {
   "display_name": "Python 3",
   "language": "python",
   "name": "python3"
  },
  "language_info": {
   "codemirror_mode": {
    "name": "ipython",
    "version": 3
   },
   "file_extension": ".py",
   "mimetype": "text/x-python",
   "name": "python",
   "nbconvert_exporter": "python",
   "pygments_lexer": "ipython3",
   "version": "3.7.9"
  }
 },
 "nbformat": 4,
 "nbformat_minor": 5
}
